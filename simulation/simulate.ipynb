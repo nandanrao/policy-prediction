{
 "cells": [
  {
   "cell_type": "code",
   "execution_count": null,
   "metadata": {
    "autoscroll": false,
    "collapsed": false,
    "ein.hycell": false,
    "ein.tags": "worksheet-0",
    "slideshow": {
     "slide_type": "-"
    }
   },
   "outputs": [],
   "source": [
    "! pip install densratio"
   ]
  },
  {
   "cell_type": "code",
   "execution_count": 10,
   "metadata": {
    "autoscroll": false,
    "collapsed": false,
    "ein.hycell": false,
    "ein.tags": "worksheet-0",
    "slideshow": {
     "slide_type": "-"
    }
   },
   "outputs": [],
   "source": [
    "# TODO\n",
    "\n",
    "# 1.\n",
    "# Make non-linear in such a way that you cannot extrapolate to unseen P(Y,X)\n",
    "\n",
    "# 2. \n",
    "# Use importance estimation to extrapolate.\n",
    "\n",
    "# 3. \n",
    "# Show that when H|Z vs Z|H, extrapolation fails even with importance estimation. \n",
    "\n",
    "# 4\n",
    "# Make true model such that excluding variables should recover a model that is \"robust\" (P(X|H))"
   ]
  },
  {
   "cell_type": "code",
   "execution_count": 1,
   "metadata": {
    "autoscroll": false,
    "collapsed": false,
    "ein.hycell": false,
    "ein.tags": "worksheet-0",
    "slideshow": {
     "slide_type": "-"
    }
   },
   "outputs": [],
   "source": [
    "%load_ext autoreload\n",
    "%autoreload 2"
   ]
  },
  {
   "cell_type": "code",
   "execution_count": 3,
   "metadata": {
    "autoscroll": false,
    "collapsed": false,
    "ein.hycell": false,
    "ein.tags": "worksheet-0",
    "slideshow": {
     "slide_type": "-"
    }
   },
   "outputs": [],
   "source": [
    "import matplotlib.pyplot as plt\n",
    "plt.rcParams['figure.figsize'] = [10, 3]"
   ]
  },
  {
   "cell_type": "code",
   "execution_count": 651,
   "metadata": {
    "autoscroll": false,
    "collapsed": false,
    "ein.hycell": false,
    "ein.tags": "worksheet-0",
    "slideshow": {
     "slide_type": "-"
    }
   },
   "outputs": [],
   "source": [
    "def plot_dat(vars_):\n",
    "    f, axes = plt.subplots(len(vars_), 1, sharex=True, figsize=(20, 10))\n",
    "\n",
    "    for (H,title),ax in zip(vars_, axes):\n",
    "        for i,h in zip(['A', 'B', 'C', 'D'], H):\n",
    "            sns.distplot(h, label = i, ax=ax)\n",
    "        ax.legend()\n",
    "        ax.set_title(title)\n",
    "        \n",
    "    # plt.title(title)\n",
    "    # plt.show()"
   ]
  },
  {
   "cell_type": "code",
   "execution_count": 1580,
   "metadata": {
    "autoscroll": false,
    "collapsed": false,
    "ein.hycell": false,
    "ein.tags": "worksheet-0",
    "slideshow": {
     "slide_type": "-"
    }
   },
   "outputs": [],
   "source": [
    "import numpy as np\n",
    "from scipy.stats import gamma\n",
    "import seaborn as sns\n",
    "from copy import deepcopy\n",
    "\n",
    "# Y := f(H, W, X, Z, N_Y)\n",
    "# Y := f(W, X, Z, N_Y)\n",
    "def fn(h, v, z, w):\n",
    "    val = -1*(h > np.mean(h))*w*h**2 + w*h + w*z + np.random.normal(0, 5, size = h.shape[0])\n",
    "    return val/10\n",
    "\n",
    "\n",
    "def generate_data(N, fn, hidden_cause = True, plot=False, hiddens = [(20,2)]*4, v_conds = [(250,5,5)]*4):\n",
    "    # H is latent variable, distribution changes (not )\n",
    "    H = [gamma.rvs(a, loc=b, scale=1, size=N) for a,b in hiddens]\n",
    "\n",
    "    # V := f(H, N_X)\n",
    "    V = [(1/(h))*c + np.random.gamma(a, b, size=N) for h,(c,a,b) in zip(H, v_conds)]\n",
    "\n",
    "\n",
    "    if not hidden_cause:\n",
    "        V,H = deepcopy(H), deepcopy(V)\n",
    "\n",
    "    # Z = [gamma.rvs(int(np.random.normal(40, 10)), loc=0, scale=1, size=N) for h in H]\n",
    "    # Z := f(N_Z) \n",
    "    Z = [gamma.rvs(2, loc=1, scale=3, size=N) for h in H]\n",
    "\n",
    "    # W := f(N_W) -- TREATMENT\n",
    "    W = [np.random.binomial(1, 0.5, size=N) for h in H]\n",
    "\n",
    "    # Y:= fn(H, V, Z, W, N_Y)\n",
    "    Y = [fn(H[idx], V[idx], Z[idx], W[idx]) for idx in range(4)]\n",
    "\n",
    "    taus = [fn(h,v,z,1) - fn(h,v,z,0) for h,v,z in zip(H,V,Z)]\n",
    "    \n",
    "    if plot:\n",
    "        plot_dat([(H,'H'), (V, 'V') , (Z, 'Z'), (Y, 'Y'), (taus, 'tau')])\n",
    "\n",
    "    return [(y, np.array([w,v,z]).T, tau) for y,v,z,w,h,tau in zip(Y, V, Z, W, H, taus)]"
   ]
  },
  {
   "cell_type": "code",
   "execution_count": 1702,
   "metadata": {
    "autoscroll": false,
    "collapsed": false,
    "ein.hycell": false,
    "ein.tags": "worksheet-0",
    "slideshow": {
     "slide_type": "-"
    }
   },
   "outputs": [],
   "source": [
    "from sklearn.tree import DecisionTreeRegressor\n",
    "from sklearn.ensemble import RandomForestRegressor\n",
    "from sklearn.preprocessing import PolynomialFeatures\n",
    "from sklearn.linear_model import LinearRegression\n",
    "from sklearn.neighbors.kde import KernelDensity\n",
    "from scipy.stats import gaussian_kde\n",
    "from scipy.stats import wasserstein_distance\n",
    "from itertools import combinations\n",
    "\n",
    "def kde_score(X):\n",
    "    return gaussian_kde(X).evaluate\n",
    "\n",
    "def score_wasserstein(dat, phi, model, train_idx):\n",
    "    y_train, X_train, _ = dat[train_idx]\n",
    "    model.fit(phi(X_train), y_train)\n",
    "    resids = [model.predict(phi(x)) - y for y,x,_ in dat]\n",
    "    dists = [wasserstein_distance(resids[0], r) for r in resids]\n",
    "    mss = [np.mean(r**2) for r in resids]\n",
    "    score = np.sum(dists)\n",
    "    return score\n",
    "\n",
    "\n",
    "def filter_dat(d, idxs):\n",
    "    return [(y, x[:,idxs],tau) for y,x,tau in d]\n",
    "\n",
    "def search_wasserstein(dat, phi, model, train_idx):\n",
    "    s = dat[0][1].shape[1]\n",
    "\n",
    "    combs = [j for i in range(1,s) \n",
    "             for j in combinations(range(1, s), i)]\n",
    "\n",
    "    combs = [[0] + list(c) for c in combs]\n",
    "\n",
    "    scores = [score_wasserstein(filter_dat(dat, i), phi, model, train_idx) for i in combs]\n",
    "\n",
    "    return combs[np.argmin(scores)]\n",
    "\n",
    "\n",
    "def run_model(dat, model, phi, train_idx, target_idx, use_weights = None, model_search = False):\n",
    "    X_train, X_target = dat[train_idx][1], dat[target_idx][1]\n",
    "\n",
    "    if model_search:\n",
    "        # exclude the target in the model search\n",
    "        dd = [d for i,d in enumerate(dat) if i != target_idx]\n",
    "        idxs = search_wasserstein(dd, phi, model, train_idx)\n",
    "        # print('Choosing variables: ', idxs)\n",
    "    else:\n",
    "        idxs = range(0, X_train.shape[1])\n",
    "\n",
    "\n",
    "    if use_weights is not None:\n",
    "        ps, pt = kde_score(X_train[:, use_weights]), kde_score(X_target[:, use_weights])\n",
    "        weights = pt(X_train[:, use_weights]) / ps(X_train[:, use_weights])\n",
    "    else:\n",
    "        weights = np.ones(X_train.shape[0])\n",
    "\n",
    "\n",
    "    d = [(phi(x[:, idxs]), x[:, 0], y) for y,x,tau in dat]\n",
    "\n",
    "    model.fit(d[train_idx][0], d[train_idx][2], sample_weight=weights)\n",
    "\n",
    "    y0 = [np.mean(model.predict(p[w == 0])) for p,w,y in d]\n",
    "    y1 = [np.mean(model.predict(p[w == 1])) for p,w,y in d]\n",
    "\n",
    "    pred_ates = [a-b for a,b in zip(y1, y0)]\n",
    "    _, _, true_ates = zip(*dat)\n",
    "\n",
    "    return [np.round(np.abs(p-np.mean(t)), 4) for p,t in zip(pred_ates, true_ates)]\n",
    "\n",
    "phi = PolynomialFeatures(degree=3, include_bias=True).fit_transform"
   ]
  },
  {
   "cell_type": "code",
   "execution_count": 1766,
   "metadata": {
    "autoscroll": false,
    "collapsed": false,
    "ein.hycell": false,
    "ein.tags": "worksheet-0",
    "slideshow": {
     "slide_type": "-"
    }
   },
   "outputs": [
    {
     "data": {
      "image/png": "[encoded data removed]",
      "text/plain": [
       "<Figure size 1440x720 with 5 Axes>"
      ]
     },
     "metadata": {},
     "output_type": "display_data"
    }
   ],
   "source": [
    "# hiddens = [(20, 2), (4, 15), (4, 20), (2, 25)]\n",
    "hiddens = [(10,2)]*4\n",
    "# v_conds = [(500,2,2)]*4\n",
    "v_conds = [(250,2,30), (250,5,10), (500,15,5), (500,40,2)]\n",
    "\n",
    "dat = generate_data(1000, \n",
    "                    fn, \n",
    "                    hidden_cause = True, \n",
    "                    plot = True, \n",
    "                    hiddens = hiddens,\n",
    "                    v_conds = v_conds)"
   ]
  },
  {
   "cell_type": "code",
   "execution_count": 1767,
   "metadata": {
    "autoscroll": false,
    "collapsed": false,
    "ein.hycell": false,
    "ein.tags": "worksheet-0",
    "slideshow": {
     "slide_type": "-"
    }
   },
   "outputs": [
    {
     "data": {
      "text/plain": [
       "array([0.25584, 0.14942, 0.3557 , 0.08385])"
      ]
     },
     "execution_count": 1767,
     "metadata": {},
     "output_type": "execute_result"
    }
   ],
   "source": [
    "model = RandomForestRegressor(n_estimators=50, max_depth=2, min_samples_leaf=.05)\n",
    "\n",
    "np.mean(np.array([run_model(dat, model, phi, 0, 3, use_weights = None, model_search = True) for i in range(10)]), 0)"
   ]
  },
  {
   "cell_type": "code",
   "execution_count": 1768,
   "metadata": {
    "autoscroll": false,
    "collapsed": false,
    "ein.hycell": false,
    "ein.tags": "worksheet-0",
    "slideshow": {
     "slide_type": "-"
    }
   },
   "outputs": [
    {
     "data": {
      "text/plain": [
       "array([0.2394 , 0.26548, 1.55302, 1.26215])"
      ]
     },
     "execution_count": 1768,
     "metadata": {},
     "output_type": "execute_result"
    }
   ],
   "source": [
    "np.mean(np.array([run_model(dat, model, phi, 0, 3, use_weights = None, model_search = False) for i in range(10)]), 0)"
   ]
  },
  {
   "cell_type": "code",
   "execution_count": 1769,
   "metadata": {
    "autoscroll": false,
    "collapsed": false,
    "ein.hycell": false,
    "ein.tags": "worksheet-0",
    "slideshow": {
     "slide_type": "-"
    }
   },
   "outputs": [
    {
     "data": {
      "text/plain": [
       "array([1.74075, 1.56163, 1.85627, 1.47177])"
      ]
     },
     "execution_count": 1769,
     "metadata": {},
     "output_type": "execute_result"
    }
   ],
   "source": [
    "np.mean(np.array([run_model(dat, model, phi, 0, 3, use_weights = 1, model_search = True) for i in range(10)]), 0)"
   ]
  },
  {
   "cell_type": "code",
   "execution_count": 1770,
   "metadata": {
    "autoscroll": false,
    "collapsed": false,
    "ein.hycell": false,
    "ein.tags": "worksheet-0",
    "slideshow": {
     "slide_type": "-"
    }
   },
   "outputs": [
    {
     "data": {
      "text/plain": [
       "array([3.20114, 3.08974, 1.91741, 1.4594 ])"
      ]
     },
     "execution_count": 1770,
     "metadata": {},
     "output_type": "execute_result"
    }
   ],
   "source": [
    "np.mean(np.array([run_model(dat, model, phi, 0, 3, use_weights = 1, model_search = False) for i in range(10)]), 0)"
   ]
  },
  {
   "cell_type": "code",
   "execution_count": 1771,
   "metadata": {
    "autoscroll": false,
    "collapsed": false,
    "ein.hycell": false,
    "ein.tags": "worksheet-0",
    "slideshow": {
     "slide_type": "-"
    }
   },
   "outputs": [
    {
     "data": {
      "text/plain": [
       "[0.2417, 0.1241, 2.043, 1.8694]"
      ]
     },
     "execution_count": 1771,
     "metadata": {},
     "output_type": "execute_result"
    }
   ],
   "source": [
    "model = LinearRegression(fit_intercept=False)\n",
    "run_model(dat, model, phi, 0, 3, use_weights = None, model_search = False)"
   ]
  },
  {
   "cell_type": "code",
   "execution_count": 1772,
   "metadata": {
    "autoscroll": false,
    "collapsed": false,
    "ein.hycell": false,
    "ein.tags": "worksheet-0",
    "slideshow": {
     "slide_type": "-"
    }
   },
   "outputs": [
    {
     "data": {
      "text/plain": [
       "[0.2417, 0.1654, 0.4191, 0.0344]"
      ]
     },
     "execution_count": 1772,
     "metadata": {},
     "output_type": "execute_result"
    }
   ],
   "source": [
    "run_model(dat, model, phi, 0, 3, use_weights = None, model_search = True)"
   ]
  },
  {
   "cell_type": "code",
   "execution_count": 1773,
   "metadata": {
    "autoscroll": false,
    "collapsed": false,
    "ein.hycell": false,
    "ein.tags": "worksheet-0",
    "slideshow": {
     "slide_type": "-"
    }
   },
   "outputs": [
    {
     "data": {
      "text/plain": [
       "[0.5055, 0.7213, 1.5729, 1.4425]"
      ]
     },
     "execution_count": 1773,
     "metadata": {},
     "output_type": "execute_result"
    }
   ],
   "source": [
    "run_model(dat, model, phi, 0, 3, use_weights = 1, model_search = False)"
   ]
  },
  {
   "cell_type": "code",
   "execution_count": 1774,
   "metadata": {
    "autoscroll": false,
    "collapsed": false,
    "ein.hycell": false,
    "ein.tags": "worksheet-0",
    "slideshow": {
     "slide_type": "-"
    }
   },
   "outputs": [
    {
     "data": {
      "text/plain": [
       "[1.6624, 1.4357, 1.656, 1.4094]"
      ]
     },
     "execution_count": 1774,
     "metadata": {},
     "output_type": "execute_result"
    }
   ],
   "source": [
    "run_model(dat, model, phi, 0, 3, use_weights = 1, model_search = True)"
   ]
  },
  {
   "cell_type": "code",
   "execution_count": 1744,
   "metadata": {
    "autoscroll": false,
    "collapsed": false,
    "ein.hycell": false,
    "ein.tags": "worksheet-0",
    "slideshow": {
     "slide_type": "-"
    }
   },
   "outputs": [],
   "source": [
    "# get residuals for \"sets\" separately\n",
    "# compute distance between residuals\n",
    "# optimize squared errors + penalty for residual distance\n",
    "\n",
    "# search for \"sets\" by looking at residuals and fitting a mixture model\n",
    "# then optimize to remove that mixture...\n",
    "\n",
    "# set up an adversarial problem: the adversary tries to find a \n",
    "# mixture model in your reiduals, the classifier tries to make force the\n",
    "# adversary to fit a 1-component mixture, for example... "
   ]
  },
  {
   "cell_type": "code",
   "execution_count": null,
   "metadata": {
    "autoscroll": false,
    "collapsed": false,
    "ein.hycell": false,
    "ein.tags": "worksheet-0",
    "slideshow": {
     "slide_type": "-"
    }
   },
   "outputs": [],
   "source": []
  }
 ],
 "metadata": {
  "kernelspec": {
   "argv": [
    "/opt/conda/bin/python",
    "-m",
    "ipykernel_launcher",
    "-f",
    "{connection_file}"
   ],
   "display_name": "Python 3",
   "env": null,
   "interrupt_mode": "signal",
   "language": "python",
   "metadata": null,
   "name": "python3"
  },
  "name": "simulate.ipynb"
 },
 "nbformat": 4,
 "nbformat_minor": 2
}
